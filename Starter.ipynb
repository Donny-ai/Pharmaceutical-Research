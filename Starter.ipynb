{
 "cells": [
  {
   "cell_type": "code",
   "execution_count": 1,
   "id": "7b8f2469-8a1e-4fac-a35a-f3e13b9b87c8",
   "metadata": {},
   "outputs": [],
   "source": [
    "from pathlib import Path\n",
    "import matplotlib.pyplot as plt"
   ]
  },
  {
   "cell_type": "code",
   "execution_count": null,
   "id": "7a4b44c9-9d7b-4430-a084-cec6d9580d00",
   "metadata": {},
   "outputs": [],
   "source": [
    "!pip install git+https://github.com/cphyc/jupyter-notify.git\n",
    "%reload_ext jupyternotify"
   ]
  },
  {
   "cell_type": "markdown",
   "id": "6c173fd3-25c6-40f7-bb86-6ba57ee8c489",
   "metadata": {},
   "source": [
    "### Summarizing"
   ]
  },
  {
   "cell_type": "code",
   "execution_count": 2,
   "id": "354ab1b0-5d24-438a-930b-23079bd68353",
   "metadata": {},
   "outputs": [
    {
     "data": {
      "text/html": [
       "<div>\n",
       "<style scoped>\n",
       "    .dataframe tbody tr th:only-of-type {\n",
       "        vertical-align: middle;\n",
       "    }\n",
       "\n",
       "    .dataframe tbody tr th {\n",
       "        vertical-align: top;\n",
       "    }\n",
       "\n",
       "    .dataframe thead th {\n",
       "        text-align: right;\n",
       "    }\n",
       "</style>\n",
       "<table border=\"1\" class=\"dataframe\">\n",
       "  <thead>\n",
       "    <tr style=\"text-align: right;\">\n",
       "      <th></th>\n",
       "      <th>doc</th>\n",
       "      <th>page_text</th>\n",
       "    </tr>\n",
       "  </thead>\n",
       "  <tbody>\n",
       "    <tr>\n",
       "      <th>0</th>\n",
       "      <td>pdf1</td>\n",
       "      <td>\\n \\nSince January 2020 Elsevier has created ...</td>\n",
       "    </tr>\n",
       "    <tr>\n",
       "      <th>1</th>\n",
       "      <td>pdf1</td>\n",
       "      <td>RESEARCH\\nCharacteristics of online pharmacies...</td>\n",
       "    </tr>\n",
       "    <tr>\n",
       "      <th>2</th>\n",
       "      <td>pdf1</td>\n",
       "      <td>illegitimate and in violation of U.S. pharmacy...</td>\n",
       "    </tr>\n",
       "    <tr>\n",
       "      <th>3</th>\n",
       "      <td>pdf1</td>\n",
       "      <td>illegal, unsafe, or misleading activities like...</td>\n",
       "    </tr>\n",
       "    <tr>\n",
       "      <th>4</th>\n",
       "      <td>pdf1</td>\n",
       "      <td>The safety characteristics of all online pharm...</td>\n",
       "    </tr>\n",
       "    <tr>\n",
       "      <th>5</th>\n",
       "      <td>pdf1</td>\n",
       "      <td>phone number listed and an offer to speak with...</td>\n",
       "    </tr>\n",
       "    <tr>\n",
       "      <th>6</th>\n",
       "      <td>pdf1</td>\n",
       "      <td>without a prescription.22Our results demonstra...</td>\n",
       "    </tr>\n",
       "    <tr>\n",
       "      <th>7</th>\n",
       "      <td>pdf1</td>\n",
       "      <td>marketplace. In the meantime, organizations sh...</td>\n",
       "    </tr>\n",
       "    <tr>\n",
       "      <th>8</th>\n",
       "      <td>pdf2</td>\n",
       "      <td>The new england journal of medicinen engl j me...</td>\n",
       "    </tr>\n",
       "    <tr>\n",
       "      <th>9</th>\n",
       "      <td>pdf2</td>\n",
       "      <td>n engl j med 380;12 nejm.org March 21, 2019 11...</td>\n",
       "    </tr>\n",
       "    <tr>\n",
       "      <th>10</th>\n",
       "      <td>pdf2</td>\n",
       "      <td>n engl j med 380;12 nejm.org March 21, 2019 11...</td>\n",
       "    </tr>\n",
       "    <tr>\n",
       "      <th>11</th>\n",
       "      <td>pdf2</td>\n",
       "      <td>n engl j med 380;12 nejm.org March 21, 2019 11...</td>\n",
       "    </tr>\n",
       "    <tr>\n",
       "      <th>12</th>\n",
       "      <td>pdf2</td>\n",
       "      <td>n engl j med 380;12 nejm.org March 21, 2019 11...</td>\n",
       "    </tr>\n",
       "    <tr>\n",
       "      <th>13</th>\n",
       "      <td>pdf2</td>\n",
       "      <td>n engl j med 380;12 nejm.org March 21, 2019 11...</td>\n",
       "    </tr>\n",
       "    <tr>\n",
       "      <th>14</th>\n",
       "      <td>pdf2</td>\n",
       "      <td>n engl j med 380;12 nejm.org March 21, 2019 11...</td>\n",
       "    </tr>\n",
       "    <tr>\n",
       "      <th>15</th>\n",
       "      <td>pdf2</td>\n",
       "      <td>n engl j med 380;12 nejm.org March 21, 2019 11...</td>\n",
       "    </tr>\n",
       "    <tr>\n",
       "      <th>16</th>\n",
       "      <td>pdf2</td>\n",
       "      <td>n engl j med 380;12 nejm.org March 21, 2019 11...</td>\n",
       "    </tr>\n",
       "    <tr>\n",
       "      <th>17</th>\n",
       "      <td>pdf2</td>\n",
       "      <td>n engl j med 380;12 nejm.org March 21, 2019 11...</td>\n",
       "    </tr>\n",
       "    <tr>\n",
       "      <th>18</th>\n",
       "      <td>pdf2</td>\n",
       "      <td>n engl j med 380;12 nejm.org March 21, 2019 11...</td>\n",
       "    </tr>\n",
       "  </tbody>\n",
       "</table>\n",
       "</div>"
      ],
      "text/plain": [
       "     doc                                          page_text\n",
       "0   pdf1   \\n \\nSince January 2020 Elsevier has created ...\n",
       "1   pdf1  RESEARCH\\nCharacteristics of online pharmacies...\n",
       "2   pdf1  illegitimate and in violation of U.S. pharmacy...\n",
       "3   pdf1  illegal, unsafe, or misleading activities like...\n",
       "4   pdf1  The safety characteristics of all online pharm...\n",
       "5   pdf1  phone number listed and an offer to speak with...\n",
       "6   pdf1  without a prescription.22Our results demonstra...\n",
       "7   pdf1  marketplace. In the meantime, organizations sh...\n",
       "8   pdf2  The new england journal of medicinen engl j me...\n",
       "9   pdf2  n engl j med 380;12 nejm.org March 21, 2019 11...\n",
       "10  pdf2  n engl j med 380;12 nejm.org March 21, 2019 11...\n",
       "11  pdf2  n engl j med 380;12 nejm.org March 21, 2019 11...\n",
       "12  pdf2  n engl j med 380;12 nejm.org March 21, 2019 11...\n",
       "13  pdf2  n engl j med 380;12 nejm.org March 21, 2019 11...\n",
       "14  pdf2  n engl j med 380;12 nejm.org March 21, 2019 11...\n",
       "15  pdf2  n engl j med 380;12 nejm.org March 21, 2019 11...\n",
       "16  pdf2  n engl j med 380;12 nejm.org March 21, 2019 11...\n",
       "17  pdf2  n engl j med 380;12 nejm.org March 21, 2019 11...\n",
       "18  pdf2  n engl j med 380;12 nejm.org March 21, 2019 11..."
      ]
     },
     "execution_count": 2,
     "metadata": {},
     "output_type": "execute_result"
    }
   ],
   "source": [
    "import PyPDF2\n",
    "import pandas as pd\n",
    "\n",
    "# Open the pdf file\n",
    "pdf1 = PyPDF2.PdfReader('Resources/pubmed.pdf')\n",
    "pdf2 = PyPDF2.PdfReader('Resources/pubmed2.pdf')\n",
    "pdfs = [pdf1, pdf2]\n",
    "# Create a dataframe to store the data from each page\n",
    "texts=[]\n",
    "names=[]\n",
    "count=1\n",
    "for pdf in pdfs:\n",
    "    name = f'pdf{count}'\n",
    "    count+=1\n",
    "    # Get the number of pages in the pdf file\n",
    "    num_pages = len(pdf.pages)\n",
    "\n",
    "    # Iterate over the pages in the pdf file\n",
    "    for i in range(num_pages):\n",
    "\n",
    "        # Get the text from the current page\n",
    "        page = pdf.pages[i]\n",
    "        text = page.extract_text()   \n",
    "\n",
    "        # Split the text into sections\n",
    "        sections = text.split('\\n\\n')\n",
    "        texts.append(sections[0])\n",
    "        names.append(name)\n",
    "\n",
    "# Add the section to the dataframe\n",
    "pubmed_df = pd.DataFrame({'doc': names, 'page_text': texts})\n",
    "pubmed_df"
   ]
  },
  {
   "cell_type": "code",
   "execution_count": 3,
   "id": "7c6c5447-d764-4683-be0f-f18535bc51e3",
   "metadata": {},
   "outputs": [
    {
     "name": "stderr",
     "output_type": "stream",
     "text": [
      "C:\\Users\\Dan\\anaconda3\\envs\\dev\\lib\\site-packages\\transformers\\models\\t5\\tokenization_t5_fast.py:165: FutureWarning: This tokenizer was incorrectly instantiated with a model max length of 512 which will be corrected in Transformers v5.\n",
      "For now, this behavior is kept to avoid breaking backwards compatibility when padding/encoding with `truncation is True`.\n",
      "- Be aware that you SHOULD NOT rely on t5-base automatically truncating your input to 512 when padding/encoding.\n",
      "- If you want to encode/pad to sequences longer than 512 you can either instantiate this tokenizer with `model_max_length` or pass `max_length` when encoding/padding.\n",
      "- To avoid this warning, please instantiate this tokenizer with `model_max_length` set to your preferred value.\n",
      "  FutureWarning,\n"
     ]
    }
   ],
   "source": [
    "from transformers import pipeline, AutoTokenizer, AutoModelForSeq2SeqLM\n",
    "\n",
    "# Set up the summarization pipeline\n",
    "tokenizer = AutoTokenizer.from_pretrained(\"t5-base\", max_input_length = 1024)\n",
    "model = AutoModelForSeq2SeqLM.from_pretrained(\"t5-base\")\n",
    "summarizer = pipeline(\"summarization\", model=model, tokenizer=tokenizer)\n",
    "\n",
    "# Define a function to generate summaries for each section\n",
    "def generate_summary(text):\n",
    "    # Generate a summary of the text using the summarization pipelineb\n",
    "     \n",
    "    summary = summarizer(text, max_length=80, min_length=25, do_sample=False)[0]['summary_text']\n",
    "    return summary"
   ]
  },
  {
   "cell_type": "code",
   "execution_count": 6,
   "id": "74d426ab-4a7e-496b-b1fc-9e3866636aa2",
   "metadata": {},
   "outputs": [
    {
     "name": "stderr",
     "output_type": "stream",
     "text": [
      "Token indices sequence length is longer than the specified maximum sequence length for this model (1104 > 512). Running this sequence through the model will result in indexing errors\n"
     ]
    },
    {
     "data": {
      "application/javascript": [
       "$(document).ready(\n",
       "    function() {\n",
       "        function appendUniqueDiv(){\n",
       "            // append a div with our uuid so we can check that it's already\n",
       "            // been sent and avoid duplicates on page reload\n",
       "            var notifiedDiv = document.createElement(\"div\")\n",
       "            notifiedDiv.id = \"523eac97-c404-4a13-bfb1-2f85ebf2b25b\"\n",
       "            element.append(notifiedDiv)\n",
       "        }\n",
       "\n",
       "        // only send notifications if the pageload is complete; this will\n",
       "        // help stop extra notifications when a saved notebook is loaded,\n",
       "        // which during testing gives us state \"interactive\", not \"complete\"\n",
       "        if (document.readyState === 'complete') {\n",
       "            // check for the div that signifies that the notification\n",
       "            // was already sent\n",
       "            if (document.getElementById(\"523eac97-c404-4a13-bfb1-2f85ebf2b25b\") === null) {\n",
       "                var notificationPayload = {\"requireInteraction\": false, \"icon\": \"/static/base/images/favicon.ico\", \"body\": \"Cell execution has finished!\", \"only_in_background\": false};\n",
       "\n",
       "                // We have a notification but the window is active\n",
       "                if (notificationPayload.only_in_background && !window.jupyterNotifyIsInBackground) {\n",
       "                    appendUniqueDiv();\n",
       "                    return;\n",
       "                }\n",
       "                if (Notification.permission !== 'denied') {\n",
       "                    if (Notification.permission !== 'granted') { \n",
       "                        Notification.requestPermission(function (permission) {\n",
       "                            if(!('permission' in Notification)) {\n",
       "                                Notification.permission = permission\n",
       "                            }\n",
       "                        })\n",
       "                    }\n",
       "                    if (Notification.permission === 'granted') {\n",
       "                    var notification = new Notification(\"Jupyter Notebook\", notificationPayload)\n",
       "                    appendUniqueDiv()\n",
       "                    notification.onclick = function () {\n",
       "                        window.focus();\n",
       "                        this.close();\n",
       "                        };\n",
       "                    } \n",
       "                }     \n",
       "            }\n",
       "        }\n",
       "    }\n",
       ")\n"
      ],
      "text/plain": [
       "<IPython.core.display.Javascript object>"
      ]
     },
     "metadata": {},
     "output_type": "display_data"
    }
   ],
   "source": [
    "%%notify\n",
    "pubmed_df['Summary'] = pubmed_df['page_text'].apply(generate_summary)"
   ]
  },
  {
   "cell_type": "code",
   "execution_count": 26,
   "id": "96490c1a-7e46-4c34-974d-9f4bd1281916",
   "metadata": {},
   "outputs": [
    {
     "data": {
      "text/html": [
       "<div>\n",
       "<style scoped>\n",
       "    .dataframe tbody tr th:only-of-type {\n",
       "        vertical-align: middle;\n",
       "    }\n",
       "\n",
       "    .dataframe tbody tr th {\n",
       "        vertical-align: top;\n",
       "    }\n",
       "\n",
       "    .dataframe thead th {\n",
       "        text-align: right;\n",
       "    }\n",
       "</style>\n",
       "<table border=\"1\" class=\"dataframe\">\n",
       "  <thead>\n",
       "    <tr style=\"text-align: right;\">\n",
       "      <th></th>\n",
       "      <th>doc</th>\n",
       "      <th>page_text</th>\n",
       "      <th>Summary</th>\n",
       "      <th>Score</th>\n",
       "    </tr>\n",
       "  </thead>\n",
       "  <tbody>\n",
       "    <tr>\n",
       "      <th>0</th>\n",
       "      <td>pdf1</td>\n",
       "      <td>\\n \\nSince January 2020 Elsevier has created ...</td>\n",
       "      <td>since January 2020 Elsevier has created a COVI...</td>\n",
       "      <td>4</td>\n",
       "    </tr>\n",
       "    <tr>\n",
       "      <th>1</th>\n",
       "      <td>pdf1</td>\n",
       "      <td>RESEARCH\\nCharacteristics of online pharmacies...</td>\n",
       "      <td>of the 62 online pharmacies found to sell Adde...</td>\n",
       "      <td>4</td>\n",
       "    </tr>\n",
       "    <tr>\n",
       "      <th>2</th>\n",
       "      <td>pdf1</td>\n",
       "      <td>illegitimate and in violation of U.S. pharmacy...</td>\n",
       "      <td>96% of the accessible online pharmacies are il...</td>\n",
       "      <td>0</td>\n",
       "    </tr>\n",
       "    <tr>\n",
       "      <th>3</th>\n",
       "      <td>pdf1</td>\n",
       "      <td>illegal, unsafe, or misleading activities like...</td>\n",
       "      <td>traf fic to rogue, unclassi fied, and legitima...</td>\n",
       "      <td>0</td>\n",
       "    </tr>\n",
       "    <tr>\n",
       "      <th>4</th>\n",
       "      <td>pdf1</td>\n",
       "      <td>The safety characteristics of all online pharm...</td>\n",
       "      <td>rogue and unclassi fied pharmacies offered som...</td>\n",
       "      <td>0</td>\n",
       "    </tr>\n",
       "    <tr>\n",
       "      <th>5</th>\n",
       "      <td>pdf1</td>\n",
       "      <td>phone number listed and an offer to speak with...</td>\n",
       "      <td>of 62 online pharmacies claiming to sell Adder...</td>\n",
       "      <td>0</td>\n",
       "    </tr>\n",
       "    <tr>\n",
       "      <th>6</th>\n",
       "      <td>pdf1</td>\n",
       "      <td>without a prescription.22Our results demonstra...</td>\n",
       "      <td>research shows that the no- prescription price...</td>\n",
       "      <td>0</td>\n",
       "    </tr>\n",
       "    <tr>\n",
       "      <th>7</th>\n",
       "      <td>pdf1</td>\n",
       "      <td>marketplace. In the meantime, organizations sh...</td>\n",
       "      <td>a review of the literature on the use and misu...</td>\n",
       "      <td>4</td>\n",
       "    </tr>\n",
       "    <tr>\n",
       "      <th>8</th>\n",
       "      <td>pdf2</td>\n",
       "      <td>The new england journal of medicinen engl j me...</td>\n",
       "      <td>in 2007, the Food and Drug Administration mand...</td>\n",
       "      <td>4</td>\n",
       "    </tr>\n",
       "    <tr>\n",
       "      <th>9</th>\n",
       "      <td>pdf2</td>\n",
       "      <td>n engl j med 380;12 nejm.org March 21, 2019 11...</td>\n",
       "      <td>the most effective treatments are methylphenid...</td>\n",
       "      <td>4</td>\n",
       "    </tr>\n",
       "    <tr>\n",
       "      <th>10</th>\n",
       "      <td>pdf2</td>\n",
       "      <td>n engl j med 380;12 nejm.org March 21, 2019 11...</td>\n",
       "      <td>106,526 Were included in the initial cohort1,4...</td>\n",
       "      <td>0</td>\n",
       "    </tr>\n",
       "    <tr>\n",
       "      <th>11</th>\n",
       "      <td>pdf2</td>\n",
       "      <td>n engl j med 380;12 nejm.org March 21, 2019 11...</td>\n",
       "      <td>the primary outcome was an ICD-9 or ICD-10 cod...</td>\n",
       "      <td>2</td>\n",
       "    </tr>\n",
       "    <tr>\n",
       "      <th>12</th>\n",
       "      <td>pdf2</td>\n",
       "      <td>n engl j med 380;12 nejm.org March 21, 2019 11...</td>\n",
       "      <td>the percentage of patients who were unlikely t...</td>\n",
       "      <td>4</td>\n",
       "    </tr>\n",
       "    <tr>\n",
       "      <th>13</th>\n",
       "      <td>pdf2</td>\n",
       "      <td>n engl j med 380;12 nejm.org March 21, 2019 11...</td>\n",
       "      <td>a higher risk of psychosis with amphetamine th...</td>\n",
       "      <td>0</td>\n",
       "    </tr>\n",
       "    <tr>\n",
       "      <th>14</th>\n",
       "      <td>pdf2</td>\n",
       "      <td>n engl j med 380;12 nejm.org March 21, 2019 11...</td>\n",
       "      <td>ADHD denotes attention deficit–hyperactivity d...</td>\n",
       "      <td>0</td>\n",
       "    </tr>\n",
       "    <tr>\n",
       "      <th>15</th>\n",
       "      <td>pdf2</td>\n",
       "      <td>n engl j med 380;12 nejm.org March 21, 2019 11...</td>\n",
       "      <td>a psychotic episode was defined as a new diagn...</td>\n",
       "      <td>4</td>\n",
       "    </tr>\n",
       "    <tr>\n",
       "      <th>16</th>\n",
       "      <td>pdf2</td>\n",
       "      <td>n engl j med 380;12 nejm.org March 21, 2019 11...</td>\n",
       "      <td>a psychotic episode was defined as a new diagn...</td>\n",
       "      <td>4</td>\n",
       "    </tr>\n",
       "    <tr>\n",
       "      <th>17</th>\n",
       "      <td>pdf2</td>\n",
       "      <td>n engl j med 380;12 nejm.org March 21, 2019 11...</td>\n",
       "      <td>psychosis may develop in these patients regard...</td>\n",
       "      <td>4</td>\n",
       "    </tr>\n",
       "    <tr>\n",
       "      <th>18</th>\n",
       "      <td>pdf2</td>\n",
       "      <td>n engl j med 380;12 nejm.org March 21, 2019 11...</td>\n",
       "      <td>n engl j med 380;12 nejm.org March 21, 2019 11...</td>\n",
       "      <td>4</td>\n",
       "    </tr>\n",
       "  </tbody>\n",
       "</table>\n",
       "</div>"
      ],
      "text/plain": [
       "     doc                                          page_text  \\\n",
       "0   pdf1   \\n \\nSince January 2020 Elsevier has created ...   \n",
       "1   pdf1  RESEARCH\\nCharacteristics of online pharmacies...   \n",
       "2   pdf1  illegitimate and in violation of U.S. pharmacy...   \n",
       "3   pdf1  illegal, unsafe, or misleading activities like...   \n",
       "4   pdf1  The safety characteristics of all online pharm...   \n",
       "5   pdf1  phone number listed and an offer to speak with...   \n",
       "6   pdf1  without a prescription.22Our results demonstra...   \n",
       "7   pdf1  marketplace. In the meantime, organizations sh...   \n",
       "8   pdf2  The new england journal of medicinen engl j me...   \n",
       "9   pdf2  n engl j med 380;12 nejm.org March 21, 2019 11...   \n",
       "10  pdf2  n engl j med 380;12 nejm.org March 21, 2019 11...   \n",
       "11  pdf2  n engl j med 380;12 nejm.org March 21, 2019 11...   \n",
       "12  pdf2  n engl j med 380;12 nejm.org March 21, 2019 11...   \n",
       "13  pdf2  n engl j med 380;12 nejm.org March 21, 2019 11...   \n",
       "14  pdf2  n engl j med 380;12 nejm.org March 21, 2019 11...   \n",
       "15  pdf2  n engl j med 380;12 nejm.org March 21, 2019 11...   \n",
       "16  pdf2  n engl j med 380;12 nejm.org March 21, 2019 11...   \n",
       "17  pdf2  n engl j med 380;12 nejm.org March 21, 2019 11...   \n",
       "18  pdf2  n engl j med 380;12 nejm.org March 21, 2019 11...   \n",
       "\n",
       "                                              Summary  Score  \n",
       "0   since January 2020 Elsevier has created a COVI...      4  \n",
       "1   of the 62 online pharmacies found to sell Adde...      4  \n",
       "2   96% of the accessible online pharmacies are il...      0  \n",
       "3   traf fic to rogue, unclassi fied, and legitima...      0  \n",
       "4   rogue and unclassi fied pharmacies offered som...      0  \n",
       "5   of 62 online pharmacies claiming to sell Adder...      0  \n",
       "6   research shows that the no- prescription price...      0  \n",
       "7   a review of the literature on the use and misu...      4  \n",
       "8   in 2007, the Food and Drug Administration mand...      4  \n",
       "9   the most effective treatments are methylphenid...      4  \n",
       "10  106,526 Were included in the initial cohort1,4...      0  \n",
       "11  the primary outcome was an ICD-9 or ICD-10 cod...      2  \n",
       "12  the percentage of patients who were unlikely t...      4  \n",
       "13  a higher risk of psychosis with amphetamine th...      0  \n",
       "14  ADHD denotes attention deficit–hyperactivity d...      0  \n",
       "15  a psychotic episode was defined as a new diagn...      4  \n",
       "16  a psychotic episode was defined as a new diagn...      4  \n",
       "17  psychosis may develop in these patients regard...      4  \n",
       "18  n engl j med 380;12 nejm.org March 21, 2019 11...      4  "
      ]
     },
     "execution_count": 26,
     "metadata": {},
     "output_type": "execute_result"
    }
   ],
   "source": [
    "pubmed_df"
   ]
  },
  {
   "cell_type": "code",
   "execution_count": 13,
   "id": "19035146-b057-45f7-a0b8-796b0f6e3892",
   "metadata": {},
   "outputs": [],
   "source": [
    "# Specify the file name for the document\n",
    "output_file = 'Output/Pubmed_Summaries.txt'\n",
    "\n",
    "# Open the file in write mode and write each 'Summary' to a new line\n",
    "with open(output_file, 'w') as file:\n",
    "    for summary in pubmed_df['Summary']:\n",
    "        file.write(summary + '\\n')"
   ]
  },
  {
   "cell_type": "code",
   "execution_count": null,
   "id": "e4ac0fd5-d1ed-43f4-89b3-9754a7d56814",
   "metadata": {},
   "outputs": [],
   "source": [
    "!pip install xformers"
   ]
  },
  {
   "cell_type": "code",
   "execution_count": 18,
   "id": "7f2c30f5-28b7-4988-9be3-f529fc4543d3",
   "metadata": {},
   "outputs": [],
   "source": [
    "from transformers import AutoTokenizer, AutoModelForSequenceClassification\n",
    "import torch\n",
    "tokenizer = AutoTokenizer.from_pretrained(\"LiYuan/amazon-review-sentiment-analysis\")\n",
    "model = AutoModelForSequenceClassification.from_pretrained(\"LiYuan/amazon-review-sentiment-analysis\")"
   ]
  },
  {
   "cell_type": "code",
   "execution_count": 22,
   "id": "56f019b8-7ba1-430b-be0b-827506c3eb5c",
   "metadata": {},
   "outputs": [],
   "source": [
    "def get_sentiment(text):\n",
    "    inputs = tokenizer(text, return_tensors=\"pt\", truncation=True, padding=True)\n",
    "    \n",
    "    with torch.no_grad():\n",
    "        outputs = model(**inputs)\n",
    "\n",
    "    # Get predicted label\n",
    "    predicted_label = torch.argmax(outputs.logits, dim=1).item()\n",
    "\n",
    "    # Return the predicted sentiment\n",
    "    return predicted_label"
   ]
  },
  {
   "cell_type": "code",
   "execution_count": 25,
   "id": "5e2e1c4b-8aaf-4fda-86bd-2f46350ccd13",
   "metadata": {},
   "outputs": [
    {
     "data": {
      "application/javascript": [
       "$(document).ready(\n",
       "    function() {\n",
       "        function appendUniqueDiv(){\n",
       "            // append a div with our uuid so we can check that it's already\n",
       "            // been sent and avoid duplicates on page reload\n",
       "            var notifiedDiv = document.createElement(\"div\")\n",
       "            notifiedDiv.id = \"79203498-6163-45f7-a07c-4bf95aa65ab7\"\n",
       "            element.append(notifiedDiv)\n",
       "        }\n",
       "\n",
       "        // only send notifications if the pageload is complete; this will\n",
       "        // help stop extra notifications when a saved notebook is loaded,\n",
       "        // which during testing gives us state \"interactive\", not \"complete\"\n",
       "        if (document.readyState === 'complete') {\n",
       "            // check for the div that signifies that the notification\n",
       "            // was already sent\n",
       "            if (document.getElementById(\"79203498-6163-45f7-a07c-4bf95aa65ab7\") === null) {\n",
       "                var notificationPayload = {\"requireInteraction\": false, \"icon\": \"/static/base/images/favicon.ico\", \"body\": \"Cell execution has finished!\", \"only_in_background\": false};\n",
       "\n",
       "                // We have a notification but the window is active\n",
       "                if (notificationPayload.only_in_background && !window.jupyterNotifyIsInBackground) {\n",
       "                    appendUniqueDiv();\n",
       "                    return;\n",
       "                }\n",
       "                if (Notification.permission !== 'denied') {\n",
       "                    if (Notification.permission !== 'granted') { \n",
       "                        Notification.requestPermission(function (permission) {\n",
       "                            if(!('permission' in Notification)) {\n",
       "                                Notification.permission = permission\n",
       "                            }\n",
       "                        })\n",
       "                    }\n",
       "                    if (Notification.permission === 'granted') {\n",
       "                    var notification = new Notification(\"Jupyter Notebook\", notificationPayload)\n",
       "                    appendUniqueDiv()\n",
       "                    notification.onclick = function () {\n",
       "                        window.focus();\n",
       "                        this.close();\n",
       "                        };\n",
       "                    } \n",
       "                }     \n",
       "            }\n",
       "        }\n",
       "    }\n",
       ")\n"
      ],
      "text/plain": [
       "<IPython.core.display.Javascript object>"
      ]
     },
     "metadata": {},
     "output_type": "display_data"
    }
   ],
   "source": [
    "%%notify\n",
    "# Applying to research summaries but function is for adderall reviews\n",
    "pubmed_df['Score'] = pubmed_df['Summary'].apply(get_sentiment)"
   ]
  },
  {
   "cell_type": "markdown",
   "id": "1c456426-3800-4a33-b980-b9bb7aab43da",
   "metadata": {},
   "source": [
    "### Analysis:\n",
    "* Online pharmacies are fraught with illegitimate adderall prescriptions\n",
    "* The risk of abuse is higher than average with adderall users.\n",
    "* Adderall users are at risk of new-onset psychosis, however the frequency is between 0.1% and 0.2%.\n",
    "* Physicians should consider the risks and symptoms of psychosis when prescribing Adderall."
   ]
  },
  {
   "cell_type": "markdown",
   "id": "5c4c968c-e364-4ac9-933d-7c1a5e9b9b8d",
   "metadata": {},
   "source": [
    "### Review Scores"
   ]
  },
  {
   "cell_type": "code",
   "execution_count": 29,
   "id": "420fbad4-47f8-4683-a7b6-f81e96779e82",
   "metadata": {},
   "outputs": [
    {
     "data": {
      "text/html": [
       "<div>\n",
       "<style scoped>\n",
       "    .dataframe tbody tr th:only-of-type {\n",
       "        vertical-align: middle;\n",
       "    }\n",
       "\n",
       "    .dataframe tbody tr th {\n",
       "        vertical-align: top;\n",
       "    }\n",
       "\n",
       "    .dataframe thead th {\n",
       "        text-align: right;\n",
       "    }\n",
       "</style>\n",
       "<table border=\"1\" class=\"dataframe\">\n",
       "  <thead>\n",
       "    <tr style=\"text-align: right;\">\n",
       "      <th></th>\n",
       "      <th>Age</th>\n",
       "      <th>Condition</th>\n",
       "      <th>Date</th>\n",
       "      <th>Drug</th>\n",
       "      <th>Sex</th>\n",
       "      <th>Reviews</th>\n",
       "    </tr>\n",
       "  </thead>\n",
       "  <tbody>\n",
       "    <tr>\n",
       "      <th>0</th>\n",
       "      <td></td>\n",
       "      <td>Attention Deficit Disorder with Hyperactivity</td>\n",
       "      <td>2023-04-29</td>\n",
       "      <td>adderall xr</td>\n",
       "      <td></td>\n",
       "      <td>No Script or health Insurance needed to place ...</td>\n",
       "    </tr>\n",
       "    <tr>\n",
       "      <th>1</th>\n",
       "      <td>25-34</td>\n",
       "      <td>Attention Deficit Disorder with Hyperactivity</td>\n",
       "      <td>2023-01-07</td>\n",
       "      <td>adderall xr</td>\n",
       "      <td>Female</td>\n",
       "      <td>I realize my previous comment was more about m...</td>\n",
       "    </tr>\n",
       "    <tr>\n",
       "      <th>2</th>\n",
       "      <td>25-34</td>\n",
       "      <td>Other</td>\n",
       "      <td>2023-01-30</td>\n",
       "      <td>adderall xr</td>\n",
       "      <td>Female</td>\n",
       "      <td>I realize my previous comment was more about m...</td>\n",
       "    </tr>\n",
       "    <tr>\n",
       "      <th>3</th>\n",
       "      <td>25-34</td>\n",
       "      <td>Attention Deficit Disorder with Hyperactivity</td>\n",
       "      <td>2023-03-08</td>\n",
       "      <td>adderall xr</td>\n",
       "      <td>Female</td>\n",
       "      <td>My entire life I felt like I was different, ne...</td>\n",
       "    </tr>\n",
       "    <tr>\n",
       "      <th>4</th>\n",
       "      <td>25-34</td>\n",
       "      <td>Attention Deficit Disorder with Hyperactivity</td>\n",
       "      <td>2023-06-09</td>\n",
       "      <td>adderall xr</td>\n",
       "      <td>Female</td>\n",
       "      <td>Been taking it since I was 10. So over 20 year...</td>\n",
       "    </tr>\n",
       "  </tbody>\n",
       "</table>\n",
       "</div>"
      ],
      "text/plain": [
       "     Age                                      Condition        Date  \\\n",
       "0         Attention Deficit Disorder with Hyperactivity  2023-04-29   \n",
       "1  25-34  Attention Deficit Disorder with Hyperactivity  2023-01-07   \n",
       "2  25-34                                          Other  2023-01-30   \n",
       "3  25-34  Attention Deficit Disorder with Hyperactivity  2023-03-08   \n",
       "4  25-34  Attention Deficit Disorder with Hyperactivity  2023-06-09   \n",
       "\n",
       "          Drug     Sex                                            Reviews  \n",
       "0  adderall xr          No Script or health Insurance needed to place ...  \n",
       "1  adderall xr  Female  I realize my previous comment was more about m...  \n",
       "2  adderall xr  Female  I realize my previous comment was more about m...  \n",
       "3  adderall xr  Female  My entire life I felt like I was different, ne...  \n",
       "4  adderall xr  Female  Been taking it since I was 10. So over 20 year...  "
      ]
     },
     "execution_count": 29,
     "metadata": {},
     "output_type": "execute_result"
    }
   ],
   "source": [
    "adhd = pd.read_csv('Resources/adderall.csv')\n",
    "adhd.head()"
   ]
  },
  {
   "cell_type": "code",
   "execution_count": 30,
   "id": "ac8e5128-6c47-4182-8cdd-fb7e5f1fc44b",
   "metadata": {},
   "outputs": [
    {
     "data": {
      "text/html": [
       "<div>\n",
       "<style scoped>\n",
       "    .dataframe tbody tr th:only-of-type {\n",
       "        vertical-align: middle;\n",
       "    }\n",
       "\n",
       "    .dataframe tbody tr th {\n",
       "        vertical-align: top;\n",
       "    }\n",
       "\n",
       "    .dataframe thead th {\n",
       "        text-align: right;\n",
       "    }\n",
       "</style>\n",
       "<table border=\"1\" class=\"dataframe\">\n",
       "  <thead>\n",
       "    <tr style=\"text-align: right;\">\n",
       "      <th></th>\n",
       "      <th>Age</th>\n",
       "      <th>Condition</th>\n",
       "      <th>Date</th>\n",
       "      <th>Drug</th>\n",
       "      <th>Sex</th>\n",
       "      <th>Reviews</th>\n",
       "      <th>score</th>\n",
       "    </tr>\n",
       "  </thead>\n",
       "  <tbody>\n",
       "    <tr>\n",
       "      <th>0</th>\n",
       "      <td></td>\n",
       "      <td>Attention Deficit Disorder with Hyperactivity</td>\n",
       "      <td>2023-04-29</td>\n",
       "      <td>adderall xr</td>\n",
       "      <td></td>\n",
       "      <td>No Script or health Insurance needed to place ...</td>\n",
       "      <td>4</td>\n",
       "    </tr>\n",
       "    <tr>\n",
       "      <th>1</th>\n",
       "      <td>25-34</td>\n",
       "      <td>Attention Deficit Disorder with Hyperactivity</td>\n",
       "      <td>2023-01-07</td>\n",
       "      <td>adderall xr</td>\n",
       "      <td>Female</td>\n",
       "      <td>I realize my previous comment was more about m...</td>\n",
       "      <td>4</td>\n",
       "    </tr>\n",
       "    <tr>\n",
       "      <th>2</th>\n",
       "      <td>25-34</td>\n",
       "      <td>Other</td>\n",
       "      <td>2023-01-30</td>\n",
       "      <td>adderall xr</td>\n",
       "      <td>Female</td>\n",
       "      <td>I realize my previous comment was more about m...</td>\n",
       "      <td>4</td>\n",
       "    </tr>\n",
       "    <tr>\n",
       "      <th>3</th>\n",
       "      <td>25-34</td>\n",
       "      <td>Attention Deficit Disorder with Hyperactivity</td>\n",
       "      <td>2023-03-08</td>\n",
       "      <td>adderall xr</td>\n",
       "      <td>Female</td>\n",
       "      <td>My entire life I felt like I was different, ne...</td>\n",
       "      <td>0</td>\n",
       "    </tr>\n",
       "    <tr>\n",
       "      <th>4</th>\n",
       "      <td>25-34</td>\n",
       "      <td>Attention Deficit Disorder with Hyperactivity</td>\n",
       "      <td>2023-06-09</td>\n",
       "      <td>adderall xr</td>\n",
       "      <td>Female</td>\n",
       "      <td>Been taking it since I was 10. So over 20 year...</td>\n",
       "      <td>4</td>\n",
       "    </tr>\n",
       "  </tbody>\n",
       "</table>\n",
       "</div>"
      ],
      "text/plain": [
       "     Age                                      Condition        Date  \\\n",
       "0         Attention Deficit Disorder with Hyperactivity  2023-04-29   \n",
       "1  25-34  Attention Deficit Disorder with Hyperactivity  2023-01-07   \n",
       "2  25-34                                          Other  2023-01-30   \n",
       "3  25-34  Attention Deficit Disorder with Hyperactivity  2023-03-08   \n",
       "4  25-34  Attention Deficit Disorder with Hyperactivity  2023-06-09   \n",
       "\n",
       "          Drug     Sex                                            Reviews  \\\n",
       "0  adderall xr          No Script or health Insurance needed to place ...   \n",
       "1  adderall xr  Female  I realize my previous comment was more about m...   \n",
       "2  adderall xr  Female  I realize my previous comment was more about m...   \n",
       "3  adderall xr  Female  My entire life I felt like I was different, ne...   \n",
       "4  adderall xr  Female  Been taking it since I was 10. So over 20 year...   \n",
       "\n",
       "   score  \n",
       "0      4  \n",
       "1      4  \n",
       "2      4  \n",
       "3      0  \n",
       "4      4  "
      ]
     },
     "execution_count": 30,
     "metadata": {},
     "output_type": "execute_result"
    }
   ],
   "source": [
    "adhd['score'] = adhd['Reviews'].apply(get_sentiment)\n",
    "adhd.head()"
   ]
  },
  {
   "cell_type": "code",
   "execution_count": 32,
   "id": "832258ee-156c-4b82-89c4-dfe809f59e1c",
   "metadata": {},
   "outputs": [],
   "source": [
    "adhd_df = adhd[(adhd['Age'] != ' ') & (adhd['Sex'] != ' ')]"
   ]
  },
  {
   "cell_type": "code",
   "execution_count": 33,
   "id": "3b63a663-b6c1-4605-a530-58789f865c10",
   "metadata": {},
   "outputs": [
    {
     "name": "stderr",
     "output_type": "stream",
     "text": [
      "C:\\Users\\Dan\\anaconda3\\envs\\dev\\lib\\site-packages\\ipykernel_launcher.py:1: SettingWithCopyWarning: \n",
      "A value is trying to be set on a copy of a slice from a DataFrame.\n",
      "Try using .loc[row_indexer,col_indexer] = value instead\n",
      "\n",
      "See the caveats in the documentation: https://pandas.pydata.org/pandas-docs/stable/user_guide/indexing.html#returning-a-view-versus-a-copy\n",
      "  \"\"\"Entry point for launching an IPython kernel.\n"
     ]
    }
   ],
   "source": [
    "adhd_df['Age'] = adhd_df['Age'].str.replace('3-6', '03-06').str.replace('7-12', '07-12')"
   ]
  },
  {
   "cell_type": "code",
   "execution_count": 34,
   "id": "d5d93216-b9ff-45e6-9c07-4583ee8a2019",
   "metadata": {},
   "outputs": [],
   "source": [
    "adhd_analysis = adhd_df.groupby(['Age', 'Sex'])['score'].mean().reset_index()\n",
    "adhd_male = adhd_analysis[adhd_analysis['Sex']=='Male']\n",
    "adhd_female = adhd_analysis[adhd_analysis['Sex']=='Female']"
   ]
  },
  {
   "cell_type": "code",
   "execution_count": 35,
   "id": "c0581880-7857-4956-8f0d-8073f16e9362",
   "metadata": {},
   "outputs": [
    {
     "data": {
      "image/png": "[encoded data removed]",
      "text/plain": [
       "<Figure size 1000x800 with 1 Axes>"
      ]
     },
     "metadata": {},
     "output_type": "display_data"
    }
   ],
   "source": [
    "%matplotlib inline\n",
    "fig, ax = plt.subplots(figsize=(10,8))\n",
    "adhd_male.plot.line(x='Age', y='score', c='blue', label='Male', ax=ax, title='Sentiment by Age and Sex')\n",
    "adhd_female.plot.line(x='Age', y='score', c='red', label='Female', ax=ax)\n",
    "\n",
    "plt.savefig('Output/ADHD Sentiment by Age and Sex.png')\n",
    "plt.show()"
   ]
  },
  {
   "cell_type": "markdown",
   "id": "ddb1ac96-597e-416f-a008-d798fcc18cf0",
   "metadata": {},
   "source": [
    "* Based on this analysis the drug is highly effective for women over the age of 55 and highly problematic for girls under the age of 13.\n",
    "* Girls and women between 13 and 55 show moderately positive sentiment. \n",
    "* Boys and men's sentiment is more consistently positive across the age spectrum.\n",
    "* Men above 19 are especially consistent with positive sentiment, only dropping off slightly for men above the age of 64."
   ]
  },
  {
   "cell_type": "code",
   "execution_count": 40,
   "id": "4f15c645-3cc4-47a0-9d0b-db52183c66aa",
   "metadata": {},
   "outputs": [],
   "source": [
    "adhd_df_male = adhd_df[adhd_df['Sex']=='Male']\n",
    "adhd_df_female = adhd_df[adhd_df['Sex']=='Female']"
   ]
  },
  {
   "cell_type": "code",
   "execution_count": 47,
   "id": "db0a68c1-0ceb-42e3-91b8-5164d2ca3a39",
   "metadata": {},
   "outputs": [],
   "source": [
    "adhd_df_grandma = adhd_df_female[(adhd_df_female['Age'] == '65-74') | (adhd_df_female['Age'] == '75 or over')]"
   ]
  },
  {
   "cell_type": "code",
   "execution_count": 52,
   "id": "75f4816e-011d-4cd9-892e-27ea630c73fc",
   "metadata": {},
   "outputs": [],
   "source": [
    "adhd_df_baby_girl = adhd_df_female[(adhd_df_female['Age'] == '03-06')]"
   ]
  },
  {
   "cell_type": "code",
   "execution_count": 54,
   "id": "f5b2fda5-19a2-4b5c-a06f-5425e6cd8701",
   "metadata": {},
   "outputs": [],
   "source": [
    "adhd_df_girl = adhd_df_female[(adhd_df_female['Age'] == '07-12')]"
   ]
  },
  {
   "cell_type": "code",
   "execution_count": 67,
   "id": "867b7822-b9b7-4614-890d-26211c96d204",
   "metadata": {},
   "outputs": [
    {
     "data": {
      "image/png": "[encoded data removed]",
      "text/plain": [
       "<Figure size 600x300 with 1 Axes>"
      ]
     },
     "metadata": {},
     "output_type": "display_data"
    }
   ],
   "source": [
    "import seaborn as sns\n",
    "\n",
    "sns.set(rc = {'figure.figsize':(6,3)})\n",
    "ax = sns.histplot(data=adhd_df_male, legend=False, bins=10, kde=False)\n",
    "ax.set(xlabel='Score')\n",
    "plt.title('Histogram of Male Respondents')\n",
    "plt.savefig('male_reviews.png')"
   ]
  },
  {
   "cell_type": "code",
   "execution_count": 68,
   "id": "90f5f023-0972-41e2-85bb-0ab7742ea908",
   "metadata": {},
   "outputs": [
    {
     "data": {
      "image/png": "[encoded data removed]",
      "text/plain": [
       "<Figure size 600x300 with 1 Axes>"
      ]
     },
     "metadata": {},
     "output_type": "display_data"
    }
   ],
   "source": [
    "sns.set(rc = {'figure.figsize':(6,3)})\n",
    "ax = sns.histplot(data=adhd_df_female, legend=False, bins=10, kde=False)\n",
    "ax.set(xlabel='Score')\n",
    "plt.title('Histogram of Female Respondents')\n",
    "plt.savefig('female_reviews.png')"
   ]
  },
  {
   "cell_type": "code",
   "execution_count": 72,
   "id": "16313187-42f1-499e-ae75-ca13fa0a302e",
   "metadata": {},
   "outputs": [
    {
     "data": {
      "image/png": "[encoded data removed]",
      "text/plain": [
       "<Figure size 600x300 with 1 Axes>"
      ]
     },
     "metadata": {},
     "output_type": "display_data"
    }
   ],
   "source": [
    "sns.set(rc = {'figure.figsize':(6,3)})\n",
    "ax = sns.histplot(data=adhd_df_grandma, legend=False, bins=10, kde=False)\n",
    "ax.set(xlabel='Score')\n",
    "plt.title('Histogram of Female Respondents age 65 and over')\n",
    "plt.savefig('elderly_female_reviews.png')"
   ]
  },
  {
   "cell_type": "code",
   "execution_count": 74,
   "id": "d589c7ad-7033-4574-9feb-ca37d32278ac",
   "metadata": {},
   "outputs": [
    {
     "data": {
      "image/png": "[encoded data removed]",
      "text/plain": [
       "<Figure size 600x300 with 1 Axes>"
      ]
     },
     "metadata": {},
     "output_type": "display_data"
    }
   ],
   "source": [
    "sns.set(rc = {'figure.figsize':(6,3)})\n",
    "ax = sns.histplot(data=adhd_df_baby_girl, legend=False, bins=5, kde=False)\n",
    "ax.set(xlabel='Score')\n",
    "plt.title('Histogram of Female Respondents age 3 to 6')\n",
    "plt.savefig('baby_girl_reviews.png')"
   ]
  },
  {
   "cell_type": "code",
   "execution_count": 76,
   "id": "308be734-6a6f-49a7-8ed2-b8f1eac4d1e6",
   "metadata": {},
   "outputs": [
    {
     "data": {
      "image/png": "[encoded data removed]",
      "text/plain": [
       "<Figure size 600x300 with 1 Axes>"
      ]
     },
     "metadata": {},
     "output_type": "display_data"
    }
   ],
   "source": [
    "sns.set(rc = {'figure.figsize':(6,3)})\n",
    "ax = sns.histplot(data=adhd_df_girl, legend=False, bins=10, kde=False)\n",
    "ax.set(xlabel='Score')\n",
    "plt.title('Histogram of Female Respondents age 7 to 12')\n",
    "plt.savefig('girl_reviews.png')"
   ]
  }
 ],
 "metadata": {
  "kernelspec": {
   "display_name": "Python 3 (ipykernel)",
   "language": "python",
   "name": "python3"
  },
  "language_info": {
   "codemirror_mode": {
    "name": "ipython",
    "version": 3
   },
   "file_extension": ".py",
   "mimetype": "text/x-python",
   "name": "python",
   "nbconvert_exporter": "python",
   "pygments_lexer": "ipython3",
   "version": "3.7.13"
  }
 },
 "nbformat": 4,
 "nbformat_minor": 5
}
